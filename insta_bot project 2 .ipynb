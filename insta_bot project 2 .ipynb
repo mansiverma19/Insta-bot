{
 "cells": [
  {
   "cell_type": "markdown",
   "id": "01d4a798",
   "metadata": {},
   "source": [
    "# INSTA-BOT 2"
   ]
  },
  {
   "cell_type": "code",
   "execution_count": 1,
   "id": "6f7d4c4c",
   "metadata": {},
   "outputs": [],
   "source": [
    "import time\n",
    "import pandas as pd\n",
    "from datetime import date\n",
    "from selenium import webdriver\n",
    "from selenium.webdriver.common.by import By\n",
    "from selenium.webdriver.common.keys import Keys\n",
    "from selenium.webdriver.support.ui import WebDriverWait\n",
    "from selenium.webdriver.support import expected_conditions as EC\n",
    "from selenium.webdriver.common.action_chains import ActionChains\n",
    "from selenium.common.exceptions import NoSuchElementException,TimeoutException"
   ]
  },
  {
   "cell_type": "code",
   "execution_count": 3,
   "id": "abfe3a83",
   "metadata": {},
   "outputs": [],
   "source": [
    "driver=webdriver.Chrome(executable_path=r'C:\\Program Files\\Python310\\chromedriver')\n",
    "driver.get('https://www.instagram.com/')"
   ]
  },
  {
   "cell_type": "code",
   "execution_count": 4,
   "id": "fdb3ab24",
   "metadata": {},
   "outputs": [],
   "source": [
    "def login(driver,username,password):\n",
    "    nm=driver.find_element_by_xpath('//*[@id=\"loginForm\"]/div/div[1]/div/label/input')\n",
    "    nm.click()\n",
    "    nm.send_keys(username)\n",
    "    pw=driver.find_element_by_xpath('//*[@id=\"loginForm\"]/div/div[2]/div/label/input')\n",
    "    pw.click()\n",
    "    pw.send_keys(password)\n",
    "    time.sleep(3)\n",
    "    login=WebDriverWait(driver,10).until(EC.presence_of_element_located((By.XPATH,'//form[@id=\"loginForm\"]/div/div[3]')))\n",
    "    login.click()\n",
    "    time.sleep(3)\n",
    "    try:\n",
    "        not_now=WebDriverWait(driver,10).until(EC.element_to_be_clickable((By.CSS_SELECTOR,'button.sqdOP.yWX7d.y3zKF')))\n",
    "        not_now.click()\n",
    "    except:\n",
    "        print(\"error\")\n",
    "        pass\n",
    "    try:\n",
    "        notify=WebDriverWait(driver,20).until(EC.element_to_be_clickable((By.CSS_SELECTOR,'div._a9-z')))\n",
    "        notify.click()\n",
    "        print('yuppp')\n",
    "    except:\n",
    "        pass"
   ]
  },
  {
   "cell_type": "code",
   "execution_count": 5,
   "id": "d2af75ec",
   "metadata": {},
   "outputs": [
    {
     "name": "stdout",
     "output_type": "stream",
     "text": [
      "yuppp\n"
     ]
    }
   ],
   "source": [
    "login(driver,'mansi.4485','counterdj@19')"
   ]
  },
  {
   "cell_type": "code",
   "execution_count": 6,
   "id": "e022be79",
   "metadata": {},
   "outputs": [],
   "source": [
    "def search(driver,nm):\n",
    "    textbox=WebDriverWait(driver,10).until(EC.element_to_be_clickable((By.XPATH,'//span[@class=\"_aawc _aawd\"]')))\n",
    "    textbox.click()\n",
    "    input_text=WebDriverWait(driver,20).until(EC.presence_of_element_located((By.XPATH,'//input[@placeholder=\"Search\"]')))\n",
    "    input_text.send_keys(nm)\n",
    "\n",
    "def cancel(driver):\n",
    "    try:\n",
    "        search_box=driver.find_element_by_class_name('_aaw9')\n",
    "        search_box.click()\n",
    "    except:\n",
    "        pass\n",
    "    time.sleep(1)\n",
    "    try:\n",
    "        cut=WebDriverWait(driver,10).until(EC.presence_of_element_located((By.CLASS_NAME,'_aawn._9-lv')))\n",
    "        cut.click()\n",
    "    except:\n",
    "        pass"
   ]
  },
  {
   "cell_type": "code",
   "execution_count": 7,
   "id": "840c50fa",
   "metadata": {},
   "outputs": [],
   "source": [
    "def search_open_profile(driver,nm):\n",
    "    search(driver,nm)\n",
    "    handle=WebDriverWait(driver,10).until(EC.presence_of_element_located((By.XPATH,'//div[@role=\"none\"]')))\n",
    "    handle.click()\n",
    "    time.sleep(2)"
   ]
  },
  {
   "cell_type": "code",
   "execution_count": 8,
   "id": "3137792e",
   "metadata": {},
   "outputs": [],
   "source": [
    "def total_followers(driver,nm):\n",
    "    search_open_profile(driver,nm)\n",
    "    all_detail=WebDriverWait(driver,15).until(EC.presence_of_all_elements_located((By.CSS_SELECTOR,'ul._aa_7 >li')))\n",
    "    total_follower=(all_detail[1].text.split(\" \"))[0].replace(',',\"\")\n",
    "    if 'K' in total_follower:\n",
    "        total_follower=float(total_follower.replace('K',''))*1000\n",
    "    elif 'M' in total_follower:\n",
    "        total_follower=float(total_follower.replace('M',''))*1000000\n",
    "    total_follower=int(total_follower)\n",
    "    return total_follower\n",
    "    \n",
    "    "
   ]
  },
  {
   "cell_type": "code",
   "execution_count": 9,
   "id": "fa3b6eb9",
   "metadata": {},
   "outputs": [],
   "source": [
    "def get_list(driver,nm):\n",
    "    search(driver,nm)\n",
    "    handle=WebDriverWait(driver,30).until(EC.presence_of_all_elements_located((By.XPATH,'//div[@role=\"none\"]')))\n",
    "    insta_handle=[]\n",
    "    for i in handle:\n",
    "        if ('#' not in i.text):\n",
    "            txt=(i.text).split('\\n')\n",
    "            insta_handle.append(txt[0])\n",
    "    cancel(driver)\n",
    "    return insta_handle"
   ]
  },
  {
   "cell_type": "code",
   "execution_count": 10,
   "id": "efbe11aa",
   "metadata": {},
   "outputs": [
    {
     "name": "stdout",
     "output_type": "stream",
     "text": [
      "['foodtalkindia', 'delhifoodgrammer', 'raipurfoodpedia', 'foodie_incarnate', 'cg_food_lover', 'foodie.raipurian', 'food', 'dilsefoodie', 'mumbaifoodcrush', 'pune_food_blogger', 'mumbaiguide_', 'yourfoodlab', 'delhifoodwalks', 'foodchoiceofmumbai', 'fragrance_of_food', 'indian_tasty_food', 'foodzeee', 'bilaspurexplorer', 'food_obsessed_guys', 'food.craver1', 'food_garage_india', 'foodiesindiake', 'raipurfood_byora', 'foodsta717', 'foodpandits', 'raipurfoodielove', 'food_lovers_0408', 'thepunefoodie', 'food_food_surat', 'food.lovers1230', 'foodworld4270', 'foodersstories', 'puneriguide', 'foodiiee_mongerrs', 'cg_food_and_travel', 'jaipurfoodtales', 'foodicted.shariq', 'foodfoodtv', 'foodfusionpk', 'streetfoodrecipe', 'foodie.yaarr', 'foodlovers9936', 'food_founder_', 'food_buzz_', 'bhilaifoood', 'easy.foodlab', 'travelufoodie', '_blogger_foodie_20', 'chef_food_foodie', 'foodies_aao', 'funfood.diaries']\n"
     ]
    }
   ],
   "source": [
    "insta_handles=get_list(driver,'food')\n",
    "print(insta_handles)"
   ]
  },
  {
   "cell_type": "code",
   "execution_count": 11,
   "id": "82d43ace",
   "metadata": {},
   "outputs": [
    {
     "name": "stdout",
     "output_type": "stream",
     "text": [
      "foodtalkindia 308000\n",
      "delhifoodgrammer 36300\n",
      "raipurfoodpedia 58800\n",
      "foodie_incarnate 1300000\n",
      "cg_food_lover 3542\n",
      "foodie.raipurian 34800\n",
      "food 308000\n",
      "dilsefoodie 1000000\n",
      "mumbaifoodcrush 89200\n",
      "pune_food_blogger 160000\n"
     ]
    }
   ],
   "source": [
    "req_list=insta_handles[:10]\n",
    "d={}\n",
    "for i in req_list:\n",
    "    followers=total_followers(driver,i)\n",
    "    driver.back()\n",
    "    time.sleep(1)\n",
    "    cancel(driver)\n",
    "    print(i,followers)\n",
    "    d[i]=followers\n"
   ]
  },
  {
   "cell_type": "code",
   "execution_count": 12,
   "id": "295e5624",
   "metadata": {},
   "outputs": [
    {
     "name": "stdout",
     "output_type": "stream",
     "text": [
      "['foodie_incarnate', 'dilsefoodie', 'foodtalkindia', 'food', 'pune_food_blogger']\n"
     ]
    }
   ],
   "source": [
    "dt=dict(sorted(d.items(),key=lambda v:v[1],reverse=True))\n",
    "req_handles=list(dt.keys())[:5]\n",
    "print(req_handles)"
   ]
  },
  {
   "cell_type": "markdown",
   "id": "e3d1333e",
   "metadata": {},
   "source": [
    "## Now your friend has followed a lot of different food bloggers, he needs to analyse the habits of these bloggers.\n",
    "From the list of instagram handles you obtained when you searched ‘food’ in previous project. Open the first 10 handles and find the top 5 which have the highest number of followers\n",
    "Now Find the number of posts these handles have done in the previous 3 days.\n",
    "Depict this information using a suitable graph."
   ]
  },
  {
   "cell_type": "code",
   "execution_count": 13,
   "id": "8ac01f54",
   "metadata": {},
   "outputs": [],
   "source": [
    "def find_month(m):\n",
    "    dct={'month':['Jan','Feb','Mar','Apr','May','Jun','Jul','Aug','Sep','Oct','Nov','Dec'],'value':[1,2,3,4,5,6,7,8,9,10,11,12]}\n",
    "    df=pd.DataFrame(dct)\n",
    "    x=df['month']==m\n",
    "    return (df[x]['value'])\n",
    "\n",
    "def date_of_post(info):\n",
    "    detail1=info.split(',')\n",
    "    sub_detail=detail1[0]\n",
    "    year=int(detail1[1].strip())\n",
    "    day=int((sub_detail.split())[1].strip())\n",
    "    month=(sub_detail.split())[0].strip()\n",
    "    month_value=find_month(month)\n",
    "    month_value=(month_value.values)[0]\n",
    "    return date(year,month_value,day)\n",
    "\n",
    "def CheckLeap(Year):  \n",
    "  # Checking if the given year is leap year  \n",
    "  if((Year % 400 == 0) or (Year % 100 != 0) and  (Year % 4 == 0)):\n",
    "    return 29\n",
    "  else:\n",
    "    return 28\n",
    "\n",
    "def day_after_calc(month):\n",
    "    d={1:31,2:31,4:31,5:30,6:31,7:30,8:31,9:31,10:30,11:31,12:30}\n",
    "    for i in d:\n",
    "        if month==i:\n",
    "            return d[i]\n",
    "\n",
    "def date_after_calc(choice,year,month,day,value):\n",
    "    if choice=='y':\n",
    "        p_date=date(year-value,month,day)\n",
    "    elif choice=='m':\n",
    "        if value<12 and value>0:\n",
    "            if month-value>=1:\n",
    "                p_date=date(year,month-value,day)\n",
    "            elif month-value==0:\n",
    "                p_date=date(year,12,day)\n",
    "            elif value>month:\n",
    "                a=value-month\n",
    "                p_date=date(year,12-a,day)\n",
    "        else:\n",
    "             p_date=date(year-1,month,day)\n",
    "    elif choice=='d':\n",
    "        m={30:[4,6,9,11],31:[1,3,5,7,8,10,12]}\n",
    "        for i in m:\n",
    "            for j in m[i]:\n",
    "                if month==j:\n",
    "                    days=i \n",
    "        if month==2:\n",
    "            feb=CheckLeap(year)\n",
    "            if day-value>=1:\n",
    "                p_date=date(year,month,day-value)\n",
    "            elif day-value==0:\n",
    "                p_date=date(year,1,31)\n",
    "            elif value>day:\n",
    "                a=value-day\n",
    "                p_date=date(year,12,31-a)\n",
    "        elif month==1:\n",
    "            if day-value>=1:\n",
    "                p_date=date(year,month,day-value)\n",
    "            elif day-value==0:\n",
    "                p_date=date(year,12,31)\n",
    "            elif value>day:\n",
    "                a=value-day\n",
    "                p_date=date(year,12,31-a)\n",
    "        elif month==3:\n",
    "            if day-value>=1:\n",
    "                p_date=date(year,month,day-value)\n",
    "            elif day-value==0:\n",
    "                feb=CheckLeap(year)\n",
    "                p_date=date(year,month-1,feb)\n",
    "            elif value>day:\n",
    "                a=value-day\n",
    "                p_date=date(year,month-1,feb-a)\n",
    "        else:\n",
    "            val=day_after_calc(month)\n",
    "            if day-value>=1:\n",
    "                p_date=date(year,month,day-value)\n",
    "            elif day-value==0:\n",
    "                p_date=date(year,month-1,val)\n",
    "            elif value>day:\n",
    "                a=value-day\n",
    "                p_date=date(year,month-1,val-a)\n",
    "    return p_date"
   ]
  },
  {
   "cell_type": "code",
   "execution_count": 18,
   "id": "f52e4d0a",
   "metadata": {},
   "outputs": [],
   "source": [
    "def past_post(driver,nm,choice,value):\n",
    "    today=str(date.today())\n",
    "    detail=today.split('-')\n",
    "    year=int(detail[0])\n",
    "    month=detail[1]\n",
    "    day=detail[2]\n",
    "    if '0' in month[0]:\n",
    "        month=int(month.replace('0',''))\n",
    "    if '0' in day[0]:\n",
    "        day=int(day.replace('0',''))\n",
    "    month=int(month)\n",
    "    day=int(day)\n",
    "    \n",
    "    past_date=date_after_calc(choice,year,month,day,value)       \n",
    "    print(past_date)\n",
    "    \n",
    "    # search profile\n",
    "    search_open_profile(driver,nm)\n",
    "    time.sleep(1)\n",
    "    count=0\n",
    "    # FIRST POST\n",
    "    (WebDriverWait(driver,5).until(EC.element_to_be_clickable((By.CSS_SELECTOR,'div._aagw')))).click()    \n",
    "    time.sleep(1)\n",
    "    while(True):\n",
    "        info=(WebDriverWait(driver,5).until(EC.presence_of_element_located((By.CSS_SELECTOR,'time._aaqe')))).get_attribute('title')\n",
    "        date_post=date_of_post(info)\n",
    "        if date_post>=past_date:\n",
    "            print(date_post)\n",
    "            count+=1\n",
    "        else:\n",
    "            break\n",
    "        # CLICKING NEXT BUTTON             \n",
    "        (WebDriverWait(driver,15).until(EC.element_to_be_clickable((By.CSS_SELECTOR,'div._aank > div._aaqg._aaqh > button')))).click()\n",
    "        time.sleep(1)\n",
    "    driver.back()\n",
    "    driver.back()\n",
    "    cancel(driver)\n",
    "    return count"
   ]
  },
  {
   "cell_type": "code",
   "execution_count": 19,
   "id": "b83f32f8",
   "metadata": {},
   "outputs": [
    {
     "name": "stdout",
     "output_type": "stream",
     "text": [
      "enter: d:day m:month y:yeard\n",
      "Valid if d:1 to 31   m:1 to 12\n",
      "enter value:5\n",
      "2022-08-13\n",
      "2022-08-18\n",
      "2022-08-17\n",
      "2022-08-16\n",
      "2022-08-15\n",
      "2022-08-14\n",
      "2022-08-13\n",
      "total posts: 6\n"
     ]
    }
   ],
   "source": [
    "# for i in req-handles:\n",
    "#     past_post(driver,i,days)\n",
    "choice=input(\"enter: d:day m:month y:year\")\n",
    "print(\"Valid if d:1 to 31   m:1 to 12\")\n",
    "value=int(input(\"enter value:\"))\n",
    "post_count=past_post(driver,'foodie_incarnate',choice,value)\n",
    "print(\"total posts:\",post_count)"
   ]
  },
  {
   "cell_type": "markdown",
   "id": "6d1daf20",
   "metadata": {},
   "source": [
    "## Your friend also needs a list of hashtags that he should use in his posts.\n",
    "## Open the 5 handles you obtained in the last question, and scrape the content of the first 10 posts of each handle.\n",
    "## Prepare a list of all words used in all the scraped posts and calculate the frequency of each word.\n",
    "## Create a csv file with two columns : the word and its frequency\n",
    "## Now, find the hashtags that were most popular among these bloggers\n",
    "## Plot a Pie Chart of the top 5 hashtags obtained and the number of times they were used by these bloggers in the scraped posts."
   ]
  },
  {
   "cell_type": "code",
   "execution_count": 25,
   "id": "b098c5e3",
   "metadata": {},
   "outputs": [],
   "source": [
    "#req_handles\n",
    "def get_hashtag(info):\n",
    "    lst=[]\n",
    "    for i in info.split():\n",
    "        if i[0]=='#':\n",
    "            lst.append(i)\n",
    "    return lst\n",
    "\n",
    "def return_frequency(lst):\n",
    "    d={}\n",
    "    for i in lst:\n",
    "        if i in d:\n",
    "            d[i]+=1\n",
    "        else:\n",
    "            d[i]=1\n",
    "    dct=dict(sorted(d.items(),key=lambda x:x[1],reverse=True))\n",
    "    return dct\n",
    "\n",
    "def hashtags(driver,nm,no_of_post):\n",
    "    insta_handles=get_list(driver,nm)\n",
    "    l=[]\n",
    "    for i in insta_handles[:6]:\n",
    "        search_open_profile(driver,i)\n",
    "        time.sleep(2) \n",
    "        try:\n",
    "            a=WebDriverWait(driver,5).until(EC.presence_of_element_located((By.CSS_SELECTOR,'button._acan._acap._acat')))\n",
    "        except:\n",
    "            driver.back()\n",
    "            cancel(driver)\n",
    "            continue\n",
    "        count=0\n",
    "        # FIRST POST\n",
    "        (WebDriverWait(driver,5).until(EC.element_to_be_clickable((By.CSS_SELECTOR,'div._aagw')))).click()    \n",
    "        time.sleep(1)\n",
    "        while(count<no_of_post):\n",
    "            try:\n",
    "                info=(WebDriverWait(driver,5).until(EC.presence_of_element_located((By.CSS_SELECTOR,'div._a9zm')))).text\n",
    "                lst=get_hashtag(info)\n",
    "                for i in lst:\n",
    "                    l.append(i)\n",
    "                count+=1\n",
    "            except:\n",
    "                pass\n",
    "            # CLICKING NEXT BUTTON             \n",
    "            (WebDriverWait(driver,15).until(EC.element_to_be_clickable((By.CSS_SELECTOR,'div._aank > div._aaqg._aaqh > button')))).click()\n",
    "        driver.back()\n",
    "        driver.back()\n",
    "        time.sleep(1)\n",
    "        cancel(driver) \n",
    "    dct=return_frequency(l)\n",
    "    return dct     "
   ]
  },
  {
   "cell_type": "code",
   "execution_count": 27,
   "id": "eb398d3c",
   "metadata": {},
   "outputs": [
    {
     "name": "stdout",
     "output_type": "stream",
     "text": [
      "enter total posts for handles from which you want to search popular hashtags :2\n",
      "{'#foodblogger': 5, '#foodtalkindia': 4, '#foodie': 4, '#foodgram': 4, '#foodgasm': 4, '#mumbai': 3, '#food': 3, '#delhifood': 3, '#delhifoodblogger': 3, '#delhifoodie': 3, '#reelkarofeelkaro': 3, '#reelitfeelit': 3, '#streetfood': 3, '#streetfoodindia': 3, '#foodtalk': 2, '#fti': 2, '#foodies': 2, '#foodiesofindia': 2, '#foodfeed': 2, '#delicious': 2, '#yummy': 2, '#instagood': 2, '#instafood': 2, '#instagram': 2, '#fries': 2, '#delhifoodgrammer': 2, '#maggienoodles': 2, '#foodieincarnate': 2, '#sodelhi': 2, '#newdelhi': 2, '#delhigram': 2, '#indianfood': 2, '#foodporn': 2, '#foodpornshare': 2, '#foodlover': 2, '#foodiesofinstagram': 2, '#indianstreetfood': 2, '#delhistreetfood': 2, '#mumbaistreetfood': 2, '#indianfoodie': 2, '#desikhana': 2, '#indianfoodblogger': 2, '#indianfoodbloggers': 2, '#delhi': 2, '#foodieraipurian': 2, '#reelsinstagram': 2, '#trendingreels': 2, '#bornoninstagram': 2, '#noodlebowls': 1, '#narathai': 1, '#delivery': 1, '#dinein': 1, '#thaicuisine': 1, '#discover': 1, '#periperi': 1, '#periperifries': 1, '#piripiri': 1, '#frenchfries': 1, '#frieslover': 1, '#friesland': 1, '#explorepage': 1, '#exploremore': 1, '#reelit': 1, '#thatfoodygirl': 1, '#maggilovers': 1, '#whitesaucemaggi': 1, '#recipe': 1, '#homemadefood': 1, '#gurgaonblogger': 1, '#delhiblogger': 1, '#cheese': 1, '#cheeselover': 1, '#cheesemaggi': 1, '#maggi': 1, '#maggielover': 1, '#maggirecipes': 1, '#maggiindia': 1, '#minivlog': 1, '#raipurfoodpedia': 1, '#raipurcity': 1, '#raipurians': 1, '#hathras': 1, '#uttarpradesh': 1, '#vadodara': 1, '#paan': 1, '#pizzas': 1, '#pizza': 1, '#vegpizza': 1, '#yumm': 1, '#tastypizza': 1, '#yummypizzas': 1, '#bilaspur': 1, '#chhattisgarh': 1, '#panpizza': 1, '#viralfood': 1, '#trendingvideos': 1, '#healthyfood': 1, '#healthybreakfast': 1, '#healthylifestyle': 1, '#fitness': 1, '#fitnessmotivation': 1, '#healthyeating': 1, '#morningenergy': 1, '#foodreelsinindia': 1, '#foodreels': 1, '#panipuri': 1, '#panipurilovers': 1, '#golgappe': 1, '#golgappa': 1, '#gupchup': 1, '#trending': 1, '#fresh': 1, '#juice': 1, '#summer': 1, '#anaar': 1, '#anar': 1, '#pomegranate': 1, '#freshjuice': 1, '#beattheheat': 1}\n"
     ]
    }
   ],
   "source": [
    "no_of_post=int(input(\"enter total posts for handles from which you want to search popular hashtags :\"))\n",
    "d=hashtags(driver,'food',no_of_post)\n",
    "print(d)"
   ]
  },
  {
   "cell_type": "code",
   "execution_count": null,
   "id": "0da994c2",
   "metadata": {},
   "outputs": [],
   "source": [
    "driver.quit()"
   ]
  }
 ],
 "metadata": {
  "kernelspec": {
   "display_name": "Python 3 (ipykernel)",
   "language": "python",
   "name": "python3"
  },
  "language_info": {
   "codemirror_mode": {
    "name": "ipython",
    "version": 3
   },
   "file_extension": ".py",
   "mimetype": "text/x-python",
   "name": "python",
   "nbconvert_exporter": "python",
   "pygments_lexer": "ipython3",
   "version": "3.9.12"
  }
 },
 "nbformat": 4,
 "nbformat_minor": 5
}
