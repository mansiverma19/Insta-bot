{
 "cells": [
  {
   "cell_type": "markdown",
   "id": "4271418e",
   "metadata": {},
   "source": [
    "## InstaBot Introduction - Part 1\n",
    "## Your friend has opened a new Food Blogging handle on Instagram and wants to get famous. He wants to follow a lot of people so that he can get noticed quickly but it is a tedious task so he asks you to help him. As you have just learned automation using Selenium, you decided to help him by creating an Instagram Bot.\n",
    "\n",
    "## You need to create different functions for each task."
   ]
  },
  {
   "cell_type": "code",
   "execution_count": 1,
   "id": "e18c73b8",
   "metadata": {},
   "outputs": [],
   "source": [
    "import time\n",
    "import pandas as pd\n",
    "from bs4 import BeautifulSoup as bfs\n",
    "from selenium import webdriver\n",
    "from selenium.webdriver.common.by import By\n",
    "from selenium.webdriver.common.keys import Keys\n",
    "from selenium.webdriver.support.ui import WebDriverWait\n",
    "from selenium.webdriver.support import expected_conditions as EC\n",
    "from selenium.webdriver.common.action_chains import ActionChains\n",
    "# from selenium.common.exceptions import StaleElementReferenceException,TimeoutException,NoSuchElementException\n",
    "from selenium.common.exceptions import NoSuchElementException,TimeoutException"
   ]
  },
  {
   "cell_type": "code",
   "execution_count": 2,
   "id": "1802ddee",
   "metadata": {},
   "outputs": [],
   "source": [
    "driver=webdriver.Chrome(executable_path=r'C:\\Users\\anilv\\Downloads\\chromedriver_win32\\chromedriver.exe')\n",
    "driver.get('https://www.instagram.com/accounts/login/')"
   ]
  },
  {
   "cell_type": "markdown",
   "id": "7a63c5bc",
   "metadata": {},
   "source": [
    "## Login to your Instagram Handle"
   ]
  },
  {
   "cell_type": "code",
   "execution_count": 3,
   "id": "597975f4",
   "metadata": {},
   "outputs": [],
   "source": [
    "def login(username,password):\n",
    "    nm=driver.find_element_by_xpath('//*[@id=\"loginForm\"]/div/div[1]/div/label/input')\n",
    "    nm.click()\n",
    "    nm.send_keys(username)\n",
    "    pw=driver.find_element_by_xpath('//*[@id=\"loginForm\"]/div/div[2]/div/label/input')\n",
    "    pw.click()\n",
    "    pw.send_keys(password)\n",
    "    login=WebDriverWait(driver,10).until(EC.presence_of_element_located((By.XPATH,'//form[@id=\"loginForm\"]/div/div[3]')))\n",
    "    login.click()\n",
    "    time.sleep(5)\n",
    "    try:\n",
    "        not_now=WebDriverWait(driver,10).until(EC.element_to_be_clickable((By.CSS_SELECTOR,'button.sqdOP.yWX7d.y3zKF')))\n",
    "        not_now.click()\n",
    "    except (NoSuchElementException,TimeoutException):\n",
    "        print(\"error\")\n",
    "        pass\n",
    "    try:\n",
    "        notify=WebDriverWait(driver,20).until(EC.element_to_be_clickable((By.CSS_SELECTOR,'button._a9--._a9_1')))\n",
    "        notify.click()\n",
    "        print('yuppp')\n",
    "    except (NoSuchElementException,TimeoutException):\n",
    "        pass"
   ]
  },
  {
   "cell_type": "code",
   "execution_count": 4,
   "id": "17e4a1eb",
   "metadata": {},
   "outputs": [
    {
     "name": "stdout",
     "output_type": "stream",
     "text": [
      "error\n",
      "yuppp\n"
     ]
    }
   ],
   "source": [
    "login('mansi.4485','counterdj@19')"
   ]
  },
  {
   "cell_type": "markdown",
   "id": "a820c48d",
   "metadata": {},
   "source": [
    "## Type for “food” in search bar and print all the names of the Instagram Handles that are displayed in list after typing “food”\n",
    "Note : Make sure to avoid printing hashtags"
   ]
  },
  {
   "cell_type": "code",
   "execution_count": 15,
   "id": "caaff26b",
   "metadata": {},
   "outputs": [],
   "source": [
    "def search(driver,nm):\n",
    "    textbox=WebDriverWait(driver,10).until(EC.element_to_be_clickable((By.XPATH,'//span[@class=\"_aawc _aawd\"]')))\n",
    "    textbox.click()\n",
    "    input_text=WebDriverWait(driver,20).until(EC.presence_of_element_located((By.XPATH,'//input[@placeholder=\"Search\"]')))\n",
    "    input_text.send_keys(nm)\n",
    "\n",
    "def cancel(driver):\n",
    "    try:\n",
    "        search_box=driver.find_element_by_class_name('_aaw9')\n",
    "        search_box.click()\n",
    "    except:\n",
    "        pass\n",
    "    time.sleep(1)\n",
    "    try:\n",
    "        cut=WebDriverWait(driver,10).until(EC.presence_of_element_located((By.CLASS_NAME,'_aawn._9-lv')))\n",
    "        cut.click()\n",
    "    except:\n",
    "        pass"
   ]
  },
  {
   "cell_type": "code",
   "execution_count": 16,
   "id": "8392d267",
   "metadata": {},
   "outputs": [],
   "source": [
    "\n",
    "def get_list(driver,nm):\n",
    "    search(driver,nm)\n",
    "    handle=WebDriverWait(driver,30).until(EC.presence_of_all_elements_located((By.XPATH,'//div[@role=\"none\"]')))\n",
    "    insta_handle=[]\n",
    "    for i in handle:\n",
    "        if ('#' not in i.text):\n",
    "            txt=(i.text).split('\\n')\n",
    "            print(txt[0])\n",
    "            insta_handle.append(txt[0])\n",
    "    cancel(driver)"
   ]
  },
  {
   "cell_type": "code",
   "execution_count": 18,
   "id": "1b952e2f",
   "metadata": {
    "scrolled": true
   },
   "outputs": [
    {
     "name": "stdout",
     "output_type": "stream",
     "text": [
      "kbskpop\n",
      "kpop_kpopoo\n",
      "welikes.kpop\n",
      "nilu_6266\n",
      "kpopredict\n",
      "kpop_nkdrama_lovers\n",
      "koreanisbirlik\n",
      "kpop_idol_officially\n",
      "globalmyeon\n",
      "kpopinfinitely\n",
      "kpop.kbmvfanyy\n",
      "kpop_ina\n",
      "soobthreads\n",
      "the_kpop_indo_merch_07\n",
      "kpop_idol_oppa_100\n",
      "ulttlisa\n",
      "fairylyricz\n",
      "kpop.chix\n",
      "livenation.kpop\n",
      "kpopflowers69\n",
      "kpop_shop_indiamerch\n",
      "kdramahood\n",
      "_kpop._.noddles__18\n",
      "kpop_addiction_yt\n",
      "korean_girlgroup_\n",
      "kpop_world_97_9\n",
      "keypaptwit\n",
      "kpopchart\n",
      "_kpop_123_anime\n",
      "kpop_bts.19\n",
      "kpop_fan_0719\n",
      "kpop_dancebyindian\n",
      "mss_kpop_idol____\n",
      "_kpop.world.__\n",
      "kpop_lover_475\n",
      "duo.babe_780\n",
      "kpop_ca_fe\n",
      "prediksikpop\n",
      "_kpop_fangirl__23\n",
      "yi_events_\n",
      "kpop_my__life_\n",
      "kpop_fan_girl_1592\n",
      "kpop_king_bts_army_official\n",
      "kpop_fan_girl_ot7_ot4\n",
      "kpoplyricsz_7\n",
      "nyuvinyl\n",
      "kpop_queen_4578\n",
      "KPOP\n",
      "aww.bts\n",
      "kpop_news.com_\n",
      "kpop.best_stan\n"
     ]
    }
   ],
   "source": [
    "get_list(driver,'kpop')"
   ]
  },
  {
   "cell_type": "markdown",
   "id": "8ebb0176",
   "metadata": {},
   "source": [
    "## Searching and Opening a profile using \n",
    "## Open profile of “So Delhi”"
   ]
  },
  {
   "cell_type": "code",
   "execution_count": 19,
   "id": "ded65b0e",
   "metadata": {},
   "outputs": [],
   "source": [
    "def search_open_profile(driver,nm):\n",
    "    search(driver,nm)\n",
    "    handle=WebDriverWait(driver,10).until(EC.presence_of_element_located((By.XPATH,'//div[@role=\"none\"]')))\n",
    "    handle.click()\n",
    "    time.sleep(2)"
   ]
  },
  {
   "cell_type": "code",
   "execution_count": 20,
   "id": "4bc877ce",
   "metadata": {},
   "outputs": [],
   "source": [
    "search_open_profile(driver,'So Delhi')\n",
    "time.sleep(3)\n",
    "driver.back()\n",
    "cancel(driver)"
   ]
  },
  {
   "cell_type": "markdown",
   "id": "a984bebd",
   "metadata": {},
   "source": [
    "## Follow/Unfollow given handle - \n",
    "## Open the Instagram Handle of “So Delhi”\n",
    "## Start following it. Print a message if you are already following\n",
    "## After following, unfollow the instagram handle. Print a message if you have already unfollowed."
   ]
  },
  {
   "cell_type": "code",
   "execution_count": 21,
   "id": "a6de89a2",
   "metadata": {},
   "outputs": [],
   "source": [
    "def follow(driver,nm):\n",
    "    search_open_profile(driver,nm)\n",
    "    try:\n",
    "        (WebDriverWait(driver,10).until(EC.presence_of_element_located((By.CSS_SELECTOR,'button._acan._acap._acas')))).click()\n",
    "        print(\"DONE FOLLOWING\")\n",
    "    except (TimeoutException,NoSuchElementException) :\n",
    "        print(\"ALREADY FOLLOWING\")\n",
    "    time.sleep(2)\n",
    "    driver.back()\n",
    "    cancel(driver)        "
   ]
  },
  {
   "cell_type": "code",
   "execution_count": 22,
   "id": "09214060",
   "metadata": {},
   "outputs": [],
   "source": [
    "def unfollow(driver,nm):\n",
    "    search_open_profile(driver,nm)\n",
    "    try:\n",
    "        (WebDriverWait(driver,10).until(EC.presence_of_element_located((By.CSS_SELECTOR,'div._ab8w._ab94._ab99._ab9f._ab9m._ab9p._abb0._abcm')))).click()\n",
    "        (WebDriverWait(driver,10).until(EC.presence_of_element_located((By.CSS_SELECTOR,'button._a9--._a9-_')))).click()\n",
    "        print(\"DONE UNFOLLOWING\")\n",
    "    except (TimeoutException,NoSuchElementException):\n",
    "        print(\"ALREADY UNFOLLOWING\")\n",
    "    time.sleep(2)\n",
    "    driver.back()\n",
    "    cancel(driver)"
   ]
  },
  {
   "cell_type": "code",
   "execution_count": 23,
   "id": "c52d05fb",
   "metadata": {},
   "outputs": [
    {
     "name": "stdout",
     "output_type": "stream",
     "text": [
      "DONE FOLLOWING\n",
      "DONE UNFOLLOWING\n"
     ]
    }
   ],
   "source": [
    "follow(driver,'So Delhi')\n",
    "unfollow(driver,'So Delhi')"
   ]
  },
  {
   "cell_type": "markdown",
   "id": "7e718e93",
   "metadata": {},
   "source": [
    "## Like/Unlike posts\n",
    "## Liking the top 30 posts of the ‘dilsefoodie'. Print message if you have already liked it.\n"
   ]
  },
  {
   "cell_type": "code",
   "execution_count": 30,
   "id": "a1b5864f",
   "metadata": {},
   "outputs": [],
   "source": [
    "def like(driver,nm,post_to_be_liked):\n",
    "    search_open_profile(driver,nm)\n",
    "    \n",
    "    total_posts=(WebDriverWait(driver,5).until(EC.presence_of_element_located((By.CSS_SELECTOR,'ul.x78zum5.x1q0g3np.xieb3on > li > div > span')))).text\n",
    "    total_posts=int(total_posts.replace(',',\"\"))\n",
    "    if (total_posts>=post_to_be_liked):y=True\n",
    "    else:y=False\n",
    "    \n",
    "    cnt=1\n",
    "    while(True and y):\n",
    "        # FIRST POST\n",
    "        (WebDriverWait(driver,5).until(EC.presence_of_element_located((By.CSS_SELECTOR,'div._aagw')))).click()    \n",
    "        time.sleep(1)\n",
    "        # LIKE FIRST POST and VERIFY\n",
    "        try:\n",
    "            verify=WebDriverWait(driver,2).until(EC.presence_of_element_located((By.CSS_SELECTOR,'span._aamw > button._abl- > div._abm0._abm1')))\n",
    "            (WebDriverWait(driver,5).until(EC.element_to_be_clickable((By.CSS_SELECTOR,'span._aamw')))).click()\n",
    "        except (NoSuchElementException,TimeoutException):\n",
    "                print(\"Post Already Liked\",cnt)\n",
    "        while(cnt<post_to_be_liked):\n",
    "            # CLICKING NEXT BUTTON             \n",
    "            (WebDriverWait(driver,15).until(EC.element_to_be_clickable((By.CSS_SELECTOR,'div._aear > div._aaqg._aaqh > button')))).click()\n",
    "            time.sleep(3)\n",
    "            cnt+=1\n",
    "            try:\n",
    "                # VERIFY IF LIKED OR NOT                 \n",
    "                verify=WebDriverWait(driver,2).until(EC.presence_of_element_located((By.CSS_SELECTOR,'span._aamw > button._abl- > div._abm0._abm1')))\n",
    "                try:\n",
    "                    # LIKE POST                     \n",
    "                    (WebDriverWait(driver,10).until(EC.element_to_be_clickable((By.CSS_SELECTOR,'span._aamw > button._abl-')))).click()\n",
    "                except:\n",
    "                    print(\"error\")\n",
    "            except (NoSuchElementException,TimeoutException):\n",
    "                print(\"Post Already Liked\",cnt)\n",
    "        else:\n",
    "            break\n",
    "    driver.back()\n",
    "    driver.back()\n",
    "    cancel(driver)"
   ]
  },
  {
   "cell_type": "code",
   "execution_count": 31,
   "id": "3f24c318",
   "metadata": {},
   "outputs": [
    {
     "name": "stdout",
     "output_type": "stream",
     "text": [
      "Post Already Liked 1\n"
     ]
    }
   ],
   "source": [
    "like(driver,'mansiverma_sjh19',6)"
   ]
  },
  {
   "cell_type": "markdown",
   "id": "3749ac82",
   "metadata": {},
   "source": [
    "## Unliking the top 30 posts of the ‘dilsefoodie’. Print message if you have already unliked it."
   ]
  },
  {
   "cell_type": "code",
   "execution_count": 32,
   "id": "eb1fa8b3",
   "metadata": {},
   "outputs": [],
   "source": [
    "def unlike(driver,nm,post_to_be_liked):\n",
    "    search_open_profile(driver,nm)\n",
    "    \n",
    "    total_posts=(WebDriverWait(driver,5).until(EC.presence_of_element_located((By.CSS_SELECTOR,'ul.x78zum5.x1q0g3np.xieb3on > li > div > span')))).text\n",
    "    total_posts=int(total_posts.replace(',',\"\"))\n",
    "    if (total_posts>=post_to_be_liked):y=True\n",
    "    else:y=False\n",
    "    \n",
    "    cnt=1\n",
    "    while(True and y):\n",
    "        # FIRST POST\n",
    "        (WebDriverWait(driver,5).until(EC.presence_of_element_located((By.CSS_SELECTOR,'div._aagw')))).click()    \n",
    "        time.sleep(1)\n",
    "        # VERIFY and UNLIKE FIRST POST \n",
    "        try:\n",
    "            verify=WebDriverWait(driver,2).until(EC.presence_of_element_located((By.CSS_SELECTOR,'span._aamw > button._abl- > div._abm0._abm1')))\n",
    "            print(\"Post Already Unliked\",cnt)\n",
    "        except (NoSuchElementException,TimeoutException):\n",
    "            (WebDriverWait(driver,5).until(EC.element_to_be_clickable((By.CSS_SELECTOR,'span._aamw')))).click()\n",
    "        while(cnt<post_to_be_liked):\n",
    "            # CLICKING NEXT BUTTON             \n",
    "            (WebDriverWait(driver,15).until(EC.element_to_be_clickable((By.CSS_SELECTOR,'div._aear > div._aaqg._aaqh > button')))).click()\n",
    "            time.sleep(1)\n",
    "            cnt+=1\n",
    "            try:\n",
    "                # VERIFY IF LIKED OR NOT                 \n",
    "                verify=WebDriverWait(driver,2).until(EC.presence_of_element_located((By.CSS_SELECTOR,'span._aamw > button._abl- > div._abm0._abm1')))\n",
    "                print(\"Post Already Unliked\",cnt)\n",
    "            except (NoSuchElementException,TimeoutException):\n",
    "                try:\n",
    "                    # UNLIKE POST                     \n",
    "                    (WebDriverWait(driver,5).until(EC.element_to_be_clickable((By.CSS_SELECTOR,'span._aamw > button._abl-')))).click()\n",
    "                except:\n",
    "                    print(\"error\")\n",
    "        else:     \n",
    "            break\n",
    "    driver.back()\n",
    "    driver.back()\n",
    "    cancel(driver)"
   ]
  },
  {
   "cell_type": "code",
   "execution_count": 33,
   "id": "fd914964",
   "metadata": {},
   "outputs": [],
   "source": [
    "unlike(driver,'mansiverma_sjh19',6)"
   ]
  },
  {
   "cell_type": "markdown",
   "id": "04f6e720",
   "metadata": {},
   "source": [
    "## Extract list of followers\n",
    "## Extract the usernames of the first 500 followers of ‘foodtalkindia’ and ‘sodelhi’.\n",
    "## Now print all the followers of “foodtalkindia” that you are following but those who don’t follow you."
   ]
  },
  {
   "cell_type": "code",
   "execution_count": 53,
   "id": "9668134f",
   "metadata": {},
   "outputs": [],
   "source": [
    "def followers(driver,nm,number):\n",
    "    search_open_profile(driver,nm)\n",
    "    \n",
    "    all_detail=WebDriverWait(driver,15).until(EC.presence_of_all_elements_located((By.CSS_SELECTOR,'ul.x78zum5.x1q0g3np.xieb3on >li')))\n",
    "    total_followers=(all_detail[1].text.split(\" \"))[0].replace(',',\"\")\n",
    "    if 'K' in total_followers:\n",
    "        total_followers=float(total_followers.replace('K',''))*1000\n",
    "    elif 'M' in total_followers:\n",
    "        total_followers=float(total_followers.replace('M',''))*100000\n",
    "    print(total_followers)\n",
    "    \n",
    "    if (total_followers>=number):y=True\n",
    "    else:y=False\n",
    "    \n",
    "    all_detail[1].click()\n",
    "    time.sleep(2)\n",
    "    cnt=0\n",
    "    l=[]\n",
    "\n",
    "    cur_height = driver.execute_script('return document.getElementsByClassName(\"_aano\")[0].scrollHeight;')\n",
    "    follower=WebDriverWait(driver,15).until(EC.presence_of_all_elements_located((By.CSS_SELECTOR,'span._aacl._aaco._aacw._aacx._aad7._aade')))\n",
    "    while(len(follower)<number and True and y):\n",
    "        driver.execute_script('document.getElementsByClassName(\"_aano\")[0].scrollTo(0, arguments[0]);', cur_height)\n",
    "        new_height = driver.execute_script('return document.getElementsByClassName(\"_aano\")[0].scrollHeight;')\n",
    "   \n",
    "        cur_height=4*new_height\n",
    "        try:\n",
    "            follower=WebDriverWait(driver,15).until(EC.presence_of_all_elements_located((By.CSS_SELECTOR,'span._aacl._aaco._aacw._aacx._aad7._aade')))\n",
    "        except:\n",
    "            print(\"error\")\n",
    "    print(len(follower))\n",
    "    for i in follower[:number]:\n",
    "        l.append(i.text)\n",
    "    driver.back()\n",
    "    driver.back()\n",
    "    time.sleep(1)\n",
    "    cancel(driver)\n",
    "    return set(l)\n",
    "    "
   ]
  },
  {
   "cell_type": "code",
   "execution_count": null,
   "id": "a662cf5b",
   "metadata": {
    "scrolled": false
   },
   "outputs": [
    {
     "name": "stdout",
     "output_type": "stream",
     "text": [
      "308000.0\n"
     ]
    }
   ],
   "source": [
    "follower_f=followers(driver,'foodtalkindia',200)\n",
    "print(follower_f)"
   ]
  },
  {
   "cell_type": "code",
   "execution_count": null,
   "id": "5b57af60",
   "metadata": {},
   "outputs": [],
   "source": [
    "follower_f=followers(driver,'hi_songjoongki',100)\n",
    "print(len(follower_f),follower_f)"
   ]
  },
  {
   "cell_type": "code",
   "execution_count": 35,
   "id": "e5aad915",
   "metadata": {},
   "outputs": [],
   "source": [
    "def my_follower(driver,nm):\n",
    "    \n",
    "    search_open_profile(driver,nm)\n",
    "    all_detail=WebDriverWait(driver,15).until(EC.presence_of_all_elements_located((By.CSS_SELECTOR,'ul._aa_7 >li')))\n",
    "    \n",
    "    total_followers=(all_detail[1].text.split(\" \"))[0].replace(',',\"\")\n",
    "    if 'K' in total_followers:\n",
    "        total_followers=float(total_followers.replace('K',''))*1000\n",
    "    elif 'M' in total_followers:\n",
    "         total_followers=float(total_followers.replace('M',''))*100000\n",
    "    print(total_followers)\n",
    "    \n",
    "    all_detail[1].click()\n",
    "    time.sleep(2)\n",
    "    l=[]\n",
    "    cur_height = driver.execute_script('return document.getElementsByClassName(\"_aano\")[0].scrollHeight;')\n",
    "    follower=WebDriverWait(driver,15).until(EC.presence_of_all_elements_located((By.CSS_SELECTOR,'span._aacl._aaco._aacw._aacx._aad7._aade')))\n",
    "    while len(follower)<int(total_followers):\n",
    "      \n",
    "        driver.execute_script('document.getElementsByClassName(\"_aano\")[0].scrollTo(0, arguments[0]);', cur_height)\n",
    "        new_height = driver.execute_script('return document.getElementsByClassName(\"_aano\")[0].scrollHeight;')\n",
    "        cur_height=2*new_height\n",
    "        try:\n",
    "            follower=WebDriverWait(driver,15).until(EC.presence_of_all_elements_located((By.CSS_SELECTOR,'span._aacl._aaco._aacw._aacx._aad7._aade')))\n",
    "        except:\n",
    "            print('error')\n",
    "    for i in follower[:int(total_followers)]:\n",
    "        val=i.text\n",
    "        if '\\n' in val:\n",
    "            val=val.split(\"\\n\")[0]\n",
    "        l.append(val)\n",
    "    driver.back()\n",
    "    driver.back()\n",
    "    cancel(driver)\n",
    "    return set(l)\n",
    "\n",
    "\n",
    "\n",
    "def my_following(driver,nm):\n",
    "    \n",
    "    search_open_profile(driver,nm)\n",
    "    all_detail=WebDriverWait(driver,15).until(EC.presence_of_all_elements_located((By.CSS_SELECTOR,'ul._aa_7 >li')))\n",
    "    \n",
    "    total_following=(all_detail[2].text.split(\" \"))[0].replace(',',\"\")\n",
    "    if 'K' in total_following:\n",
    "        total_following=float(total_followers.replace('K',''))*1000\n",
    "    elif 'M' in total_following:\n",
    "         total_following=float(total_followers.replace('M',''))*100000\n",
    "    print(total_following)\n",
    "    \n",
    "    all_detail[2].click()\n",
    "    time.sleep(2)\n",
    "    l=[]\n",
    "    cur_height = driver.execute_script('return document.getElementsByClassName(\"_aano\")[0].scrollHeight;')\n",
    "    following=WebDriverWait(driver,15).until(EC.presence_of_all_elements_located((By.CSS_SELECTOR,'span._aacl._aaco._aacw._aacx._aad7._aade')))\n",
    "    while len(following)<int(total_following):\n",
    "      \n",
    "        driver.execute_script('document.getElementsByClassName(\"_aano\")[0].scrollTo(0, arguments[0]);', cur_height)\n",
    "        new_height = driver.execute_script('return document.getElementsByClassName(\"_aano\")[0].scrollHeight;')\n",
    "        cur_height=2*new_height\n",
    "        try:\n",
    "            following=WebDriverWait(driver,15).until(EC.presence_of_all_elements_located((By.CSS_SELECTOR,'span._aacl._aaco._aacw._aacx._aad7._aade')))\n",
    "        except:\n",
    "            print('error')\n",
    "    for i in following[:int(total_following)]:\n",
    "        val=i.text\n",
    "        if '\\n' in val:\n",
    "            val=val.split(\"\\n\")[0]\n",
    "        l.append(val)\n",
    "    driver.back()\n",
    "    driver.back()\n",
    "    cancel(driver)\n",
    "    return set(l)"
   ]
  },
  {
   "cell_type": "code",
   "execution_count": 36,
   "id": "cd5e5173",
   "metadata": {},
   "outputs": [
    {
     "name": "stdout",
     "output_type": "stream",
     "text": [
      "2\n",
      "23\n",
      "2 23\n"
     ]
    }
   ],
   "source": [
    "followers=my_follower(driver,'mansi.4485')\n",
    "following=my_following(driver,'mansi.4485')\n",
    "print(len(followers),len(following))"
   ]
  },
  {
   "cell_type": "code",
   "execution_count": 37,
   "id": "3d3b4e4a",
   "metadata": {
    "scrolled": true
   },
   "outputs": [
    {
     "name": "stdout",
     "output_type": "stream",
     "text": [
      "{'soohyun_k216', 'sbs_runningman_sbs', 'amitbabu9851', 'dheerajdubey_19', 'vedantmadhav1', 'jsomin86', 'eunwo.o_c', 'holyhaein', 'sahanedinesh', 'psycho_abhi01', 'masijacoke850714', 'productgraphybyvipin', 'skuukzky', 'real__pcy', 'dreamvillamilakya', 'my_songjihyo', 'kjk76', 'akshaykumar', 'gulzar.husayn', 'quanhaha79', 'actorleeminho', 'hi_songjoongki'}\n",
      "0 set()\n"
     ]
    }
   ],
   "source": [
    "not_following=following-followers\n",
    "print(not_following)\n",
    "# print(follower_f)\n",
    "result=not_following.intersection(follower_f)\n",
    "print(len(result),result)"
   ]
  },
  {
   "cell_type": "markdown",
   "id": "48bef688",
   "metadata": {},
   "source": [
    "## Check the story of ‘coding.ninjas’. Consider the following Scenarios and print error messages accordingly -\n",
    "## If You have already seen the story.\n",
    "## Or The user has no story.\n",
    "## Or View the story if not yet seen."
   ]
  },
  {
   "cell_type": "code",
   "execution_count": 19,
   "id": "db26aa04",
   "metadata": {},
   "outputs": [],
   "source": [
    "def story(driver,nm):\n",
    "    \n",
    "    search_open_profile(driver,nm)\n",
    "    check=WebDriverWait(driver,15).until(EC.presence_of_element_located((By.CSS_SELECTOR,'canvas._aarh')))\n",
    "    try:\n",
    "        WebDriverWait(driver,10).until(EC.presence_of_element_located((By.CSS_SELECTOR,'div._aarf._aarg')))\n",
    "        if check.get_attribute('height')=='208':\n",
    "            print(\"Already Seen\")\n",
    "        else:\n",
    "            icon=WebDriverWait(driver,15).until(EC.element_to_be_clickable((By.CSS_SELECTOR,'div._aa_j')))\n",
    "            icon.click()\n",
    "    except:\n",
    "        print('No Story')\n",
    "    driver.back()"
   ]
  },
  {
   "cell_type": "code",
   "execution_count": 20,
   "id": "df36411b",
   "metadata": {},
   "outputs": [],
   "source": [
    "story(driver,'coding.ninjas')\n",
    "    "
   ]
  },
  {
   "cell_type": "code",
   "execution_count": 18,
   "id": "c111c97e",
   "metadata": {},
   "outputs": [],
   "source": [
    "driver.quit()"
   ]
  }
 ],
 "metadata": {
  "kernelspec": {
   "display_name": "Python 3 (ipykernel)",
   "language": "python",
   "name": "python3"
  },
  "language_info": {
   "codemirror_mode": {
    "name": "ipython",
    "version": 3
   },
   "file_extension": ".py",
   "mimetype": "text/x-python",
   "name": "python",
   "nbconvert_exporter": "python",
   "pygments_lexer": "ipython3",
   "version": "3.9.12"
  }
 },
 "nbformat": 4,
 "nbformat_minor": 5
}
